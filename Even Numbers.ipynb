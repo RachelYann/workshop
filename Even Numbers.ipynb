{
 "cells": [
  {
   "cell_type": "code",
   "execution_count": 22,
   "metadata": {
    "collapsed": true
   },
   "outputs": [],
   "source": [
    "def isEven(n) :\n",
    "    return n%2==0"
   ]
  },
  {
   "cell_type": "code",
   "execution_count": 23,
   "metadata": {
    "collapsed": false
   },
   "outputs": [],
   "source": [
    "\n",
    "nums= range(100)\n",
    "    \n",
    "\n"
   ]
  },
  {
   "cell_type": "code",
   "execution_count": 24,
   "metadata": {
    "collapsed": false
   },
   "outputs": [
    {
     "name": "stdout",
     "output_type": "stream",
     "text": [
      "Even 0\n",
      "Odd 1\n",
      "Even 2\n",
      "Odd 3\n",
      "Even 4\n",
      "Odd 5\n",
      "Even 6\n",
      "Odd 7\n",
      "Even 8\n",
      "Odd 9\n",
      "Even 10\n",
      "Odd 11\n",
      "Even 12\n",
      "Odd 13\n",
      "Even 14\n",
      "Odd 15\n",
      "Even 16\n",
      "Odd 17\n",
      "Even 18\n",
      "Odd 19\n",
      "Even 20\n",
      "Odd 21\n",
      "Even 22\n",
      "Odd 23\n",
      "Even 24\n",
      "Odd 25\n",
      "Even 26\n",
      "Odd 27\n",
      "Even 28\n",
      "Odd 29\n",
      "Even 30\n",
      "Odd 31\n",
      "Even 32\n",
      "Odd 33\n",
      "Even 34\n",
      "Odd 35\n",
      "Even 36\n",
      "Odd 37\n",
      "Even 38\n",
      "Odd 39\n",
      "Even 40\n",
      "Odd 41\n",
      "Even 42\n",
      "Odd 43\n",
      "Even 44\n",
      "Odd 45\n",
      "Even 46\n",
      "Odd 47\n",
      "Even 48\n",
      "Odd 49\n",
      "Even 50\n",
      "Odd 51\n",
      "Even 52\n",
      "Odd 53\n",
      "Even 54\n",
      "Odd 55\n",
      "Even 56\n",
      "Odd 57\n",
      "Even 58\n",
      "Odd 59\n",
      "Even 60\n",
      "Odd 61\n",
      "Even 62\n",
      "Odd 63\n",
      "Even 64\n",
      "Odd 65\n",
      "Even 66\n",
      "Odd 67\n",
      "Even 68\n",
      "Odd 69\n",
      "Even 70\n",
      "Odd 71\n",
      "Even 72\n",
      "Odd 73\n",
      "Even 74\n",
      "Odd 75\n",
      "Even 76\n",
      "Odd 77\n",
      "Even 78\n",
      "Odd 79\n",
      "Even 80\n",
      "Odd 81\n",
      "Even 82\n",
      "Odd 83\n",
      "Even 84\n",
      "Odd 85\n",
      "Even 86\n",
      "Odd 87\n",
      "Even 88\n",
      "Odd 89\n",
      "Even 90\n",
      "Odd 91\n",
      "Even 92\n",
      "Odd 93\n",
      "Even 94\n",
      "Odd 95\n",
      "Even 96\n",
      "Odd 97\n",
      "Even 98\n",
      "Odd 99\n"
     ]
    }
   ],
   "source": [
    "for n in nums:\n",
    "  if isEven(n)== True:\n",
    "    print(\"Even \"+ str(n))\n",
    "  else:\n",
    "        print (\"Odd \"+ str(n))\n",
    "   "
   ]
  },
  {
   "cell_type": "code",
   "execution_count": null,
   "metadata": {
    "collapsed": true
   },
   "outputs": [],
   "source": []
  },
  {
   "cell_type": "code",
   "execution_count": null,
   "metadata": {
    "collapsed": true
   },
   "outputs": [],
   "source": []
  }
 ],
 "metadata": {
  "kernelspec": {
   "display_name": "Python 3",
   "language": "python",
   "name": "python3"
  },
  "language_info": {
   "codemirror_mode": {
    "name": "ipython",
    "version": 3
   },
   "file_extension": ".py",
   "mimetype": "text/x-python",
   "name": "python",
   "nbconvert_exporter": "python",
   "pygments_lexer": "ipython3",
   "version": "3.5.1"
  }
 },
 "nbformat": 4,
 "nbformat_minor": 0
}
